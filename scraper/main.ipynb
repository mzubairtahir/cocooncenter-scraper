{
 "cells": [
  {
   "cell_type": "code",
   "execution_count": 63,
   "id": "6e4eacd1",
   "metadata": {},
   "outputs": [],
   "source": [
    "import requests as re\n",
    "import pandas as pd\n",
    "from bs4 import BeautifulSoup\n",
    "import numpy\n",
    "import random\n",
    "from time import sleep"
   ]
  },
  {
   "cell_type": "code",
   "execution_count": 65,
   "id": "05967acb",
   "metadata": {},
   "outputs": [],
   "source": [
    "user_agents=[\n",
    "    {'User-Agent': 'Mozilla/5.0 (Windows NT 10.0; Win64; x64) AppleWebKit/537.36 (KHTML, like Gecko) Chrome/94.0.4606.61 Safari/537.36'},\n",
    "    {'User-Agent': 'Mozilla/5.0 (Windows NT 10.0; Win64; x64; rv:93.0) Gecko/20100101 Firefox/93.0'},\n",
    "    {'User-Agent': 'Mozilla/5.0 (Windows NT 10.0; Win64; x64) AppleWebKit/537.36 (KHTML, like Gecko) Chrome/93.0.4577.82 Safari/537.36 Edg/93.0.961.38'}\n",
    "]"
   ]
  },
  {
   "cell_type": "code",
   "execution_count": 66,
   "id": "840c5ee4",
   "metadata": {},
   "outputs": [],
   "source": [
    "data=[]"
   ]
  },
  {
   "cell_type": "code",
   "execution_count": 67,
   "id": "32ce3087",
   "metadata": {},
   "outputs": [],
   "source": [
    "brands={\"d-ame-nature\": 1, \"dacryo\": 1, \"darphin\": 3, \"daylong\": 1, \"dbb-remond\": 2, \"dechra\": 1, \"decleor\": 2, \"dekelaction\": 1, \n",
    "        \"delarom\": 2, \"demak-up\": 1, \"densmore\": 1, \"dentaid\": 1, \"denti-smile\": 1, \"dramp\": 1, \"dermagor\": 1, \"dermophil-indien\": 1, \n",
    "        \"dermorens\": 1, \"desinfectis\": 1, \"dettol\": 1, \"dexsil\": 1, \"diafarm\": 1, \"diet-world\": 1, \"difrax\": 1, \"dim\": 1, \n",
    "        \"docteur-valnet\": 2, \"dodie\": 3, \"dolicare-skin\": 1, \"dr-bronner-s\": 1, \"dr-niedermaier\": 1, \"dr-theiss\": 1, \"ducray\": 3, \n",
    "        \"dukan\": 1, \"dulac\": 1, \"duo-lp-pro\": 1, \"durex\": 2, \"ea-pharma\": 1, \"eafit\": 3, \"earlooping\": 1, \"earth-rated\": 1,\n",
    "        \"eau-de-jonzac\": 3, \"eau-de-melisse\": 1, \"eau-precieuse\": 1, \"ecrinal\": 1, \"eden-gen\": 1, \"effadiane\": 1, \"effiderm\": 1,\n",
    "        \"egyptian-magic\": 1, \"elancyl\": 1, \"elastogum\": 1, \"elastoplast\": 2, \"elcea\": 1, \"elgydium\": 3, \"eliott-et-loup\": 1,\n",
    "        \"elixirs-co\": 3, \"elmex\": 2, \"embryolisse\": 2, \"emtrix\": 1, \"energie-fruit\": 1, \"eostra\": 1, \"erborian\": 2, \"eric-favre\": 2, \n",
    "        \"ernst-richter-s\": 1, \"escos\": 1, \"esprit-bio\": 1, \"essity\": 2, \"estigreen\": 1, \"estipharm\": 2, \"etat-pur\": 1, \"etiaxil\": 1, \n",
    "        \"eucerin\": 3, \"eugene-color\": 1, \"eugene-perma\": 2, \"eupeptis\": 1, \"eutra\": 1, \"evian\": 1, \"excilor\": 1, \"exopharm\": 1, \n",
    "        \"eye-care\": 3, \"eyes\": 1, \"faith-in-nature\": 1, \"fat-target\": 1, \"femannose\": 1, \"femibion\": 1, \"ferrotone\": 1, \n",
    "        \"filarmonica\": 1, \"filorga\": 3, \"finger-bob\": 1, \"fittydent\": 1, \"fixodent\": 1, \"flamant-vert\": 1, \"flamingo\": 1,\n",
    "        \"fleurs-de-bach-original\": 2, \"florame\": 2, \"floreve\": 1, \"fluocaril\": 1, \"foamie\": 1, \"forte-pharma\": 4, \"foucaud\": 1,\n",
    "        \"franprotec\": 1, \"freedog\": 1, \"frescoryl\": 1, \"frontline\": 1,\n",
    "        \"galderma\": 1, \"galenic\": 2, \"gallia\": 1, \"gamarde\": 3,\n",
    "        \"garancia\": 3, \"gemmo-terra\": 1, \"genacol\": 1, \"gerimax\": 1, \"gibaud\": 2, \"gifrer\": 2, \"gilbert\": 1, \"gillette\": 1, \n",
    "        \"ginkor\": 1, \"glamy\": 1, \"goldsite\": 1, \"good-gout\": 2, \"gouttes-bleues\": 1, \"granions\": 4, \"green-laveur\": 1, \n",
    "        \"green-tribu\": 1, \"greenleaf\": 1, \"guigoz\": 1, \"gum\": 3, \"gynedex\": 1, \"hdnc\": 1, \"haan\": 1, \"haribo\": 1, \n",
    "        \"hartmann\": 1, \"hawaiian-tropic\": 1, \"healse\": 1, \"healthcare\": 1, \"hei-poa\": 2, \"herbalgem\": 3, \"herbatint\": 1, \"herbesan\": 2, \"hermes-edulcorants\": 1, \"hexamer\": 1, \"hip\": 1, \"hipp\": 3, \n",
    "        \"hra-pharma\": 1, \"humer\": 1, \"huyder-pharma\": 1, \"hyalugel\": 1, \"hydralin\": 1, \"hydratis\": 1, \"hydrolarm\": 1, \n",
    "        \"hyfac\": 1, \"ialugen-advance\": 1, \"ibsa\": 1, \"imedeen\": 1, \"imiza\": 1, \"inava\": 1, \"incarose\": 2, \"ineldea\": 1,\n",
    "        \"innovatouch\": 1, \"innoxa\": 1, \"insect-ecran\": 1, \"institut-esthederm\": 4, \"intibiome\": 1, \"intima\": 1, \"intimy\": 1, \n",
    "        \"invisibobble\": 1, \"ioma\": 1, \"irrversible\": 1, \"isdin\": 2, \"isoxan\": 1, \"item-dermatologie\": 1, \"ixage\": 1}\n",
    "listofdict=(dict.items(brands))"
   ]
  },
  {
   "cell_type": "code",
   "execution_count": 68,
   "id": "e34d830e",
   "metadata": {},
   "outputs": [],
   "source": [
    "links_of_all_products=[]"
   ]
  },
  {
   "cell_type": "code",
   "execution_count": 69,
   "id": "2ac3ab2f",
   "metadata": {
    "scrolled": false
   },
   "outputs": [],
   "source": [
    "for brand,pages in listofdict:\n",
    "\n",
    "    \n",
    "    for pages_no in range(1,pages+1):\n",
    "        \n",
    "        link=f'https://www.cocooncenter.co.uk/brands/{brand}.html?page={pages_no}'\n",
    "        try:\n",
    "            r=re.get(link,headers=random.choice(user_agents),timeout=60)\n",
    "        except:\n",
    "            r=re.get(link,headers=random.choice(user_agents),timeout=60)\n",
    "            \n",
    "        html=r.content\n",
    "        soup=BeautifulSoup(html,'html.parser')\n",
    "        main_page=soup.find('section',class_='listing_filtre_deplie')  \n",
    "        allproducts=main_page.find_all('article',class_='fiche_min fiche_min_categorie')\n",
    "        for i in allproducts:\n",
    "            link_of_product=i.find('h3',class_='bloc_nom').find('a').get('href')\n",
    "                    \n",
    "            links_of_all_products.append(link_of_product)\n",
    "            \n",
    "            "
   ]
  },
  {
   "cell_type": "code",
   "execution_count": 70,
   "id": "d77e02bd",
   "metadata": {},
   "outputs": [
    {
     "data": {
      "text/plain": [
       "4008"
      ]
     },
     "execution_count": 70,
     "metadata": {},
     "output_type": "execute_result"
    }
   ],
   "source": [
    "len(links_of_all_products)"
   ]
  },
  {
   "cell_type": "code",
   "execution_count": 71,
   "id": "4898142c",
   "metadata": {},
   "outputs": [],
   "source": [
    "sleep(5)"
   ]
  },
  {
   "cell_type": "code",
   "execution_count": 72,
   "id": "51924495",
   "metadata": {},
   "outputs": [],
   "source": [
    "def page_scraping(sop,prod_link):\n",
    "    prod_link=\"https://www.cocooncenter.co.uk\"+prod_link\n",
    "\n",
    "    \n",
    "    brand=sop.find('h1',class_='titre_produit').find('span').text\n",
    "    title=sop.find('h1',class_='titre_produit').get_text(strip=True).replace(brand,'')\n",
    "    try:\n",
    "        image_source=sop.find('div',class_='photo_produit').find('img').get('src')\n",
    "    except:\n",
    "        try:\n",
    "            image_source=sop.find('div',class_='zoomWrapperImage').find('img').get('src')\n",
    "        except:\n",
    "            \n",
    "            print('image not found')\n",
    "    \n",
    "    price=sop.find('span',class_='prix_fiche_produit').get_text(strip=True)\n",
    "    try:\n",
    "        stock_status=sop.find('div',class_='produit_disponible').get_text(strip=True)\n",
    "\n",
    "    except:\n",
    "        pass\n",
    "        stock_status=None\n",
    "        \n",
    "    description=sop.find('div',class_='content_zone_desc tabcontent').get_text(strip=True)\n",
    "    ean=sop.find('div',{'id':'detail'}).find('td',{'id':'type_info_prio_cab_0'}).get_text(strip=True)\n",
    "    category=sop.find('ul',class_='breadcrumb gtm-bc').get_text(strip=True)\n",
    "    \n",
    "    data.append({\n",
    "        'Brand':brand,\n",
    "        'Title':title,\n",
    "        'Description':description,\n",
    "        'Image url':image_source,\n",
    "        'Price':price,\n",
    "        'Product url':prod_link,\n",
    "        'Stock status':stock_status,\n",
    "        'EAn':ean,\n",
    "        'Category':category\n",
    "        \n",
    "    })\n",
    "\n",
    "    \n"
   ]
  },
  {
   "cell_type": "code",
   "execution_count": 73,
   "id": "82bd6603",
   "metadata": {},
   "outputs": [],
   "source": [
    "for index,product_link in enumerate(links_of_all_products):\n",
    "    if index%50==0:\n",
    "        sleep(5)\n",
    "        \n",
    "    varian_links=[]\n",
    "    try:\n",
    "        r2=re.get(\"https://www.cocooncenter.co.uk\"+product_link,headers=random.choice(user_agents),timeout=60)\n",
    "    except:\n",
    "        r2=re.get(\"https://www.cocooncenter.co.uk\"+product_link,headers=random.choice(user_agents),timeout=60)\n",
    "        \n",
    "    html2=r2.content\n",
    "    soup2=BeautifulSoup(html2,'html.parser')\n",
    "    page_scraping(soup2,product_link)\n",
    "    \n",
    "    # variant checking...\n",
    "    try:\n",
    "        variant_main_div=soup2.find('div',class_='variation_selector_img_items')\n",
    "        all_variants=variant_main_div.find_all('div')\n",
    "        \n",
    "    except:\n",
    "        pass\n",
    "    else:\n",
    "        if len(all_variants)>0:\n",
    "        \n",
    "            for j in all_variants:\n",
    "                try:\n",
    "                    link_of_variant=j.find('a').get('href')\n",
    "                except:\n",
    "                    pass\n",
    "                else:\n",
    "                    varian_links.append(link_of_variant)\n",
    "                    \n",
    "\n",
    "            for var_link in varian_links:\n",
    "                try:\n",
    "                    r3=re.get(\"https://www.cocooncenter.co.uk\"+var_link,headers=random.choice(user_agents),timeout=60)\n",
    "                except:\n",
    "                    r3=re.get(\"https://www.cocooncenter.co.uk\"+var_link,headers=random.choice(user_agents),timeout=60)\n",
    "                    \n",
    "                html3=r3.content\n",
    "                soup3=BeautifulSoup(html3,'html.parser')\n",
    "                page_scraping(soup3,var_link)\n",
    "\n",
    "\n",
    "                \n",
    "\n",
    "\n",
    "\n",
    "\n",
    "\n",
    "\n",
    "\n",
    "\n",
    "\n",
    "\n"
   ]
  },
  {
   "cell_type": "code",
   "execution_count": 74,
   "id": "116de851",
   "metadata": {},
   "outputs": [],
   "source": [
    "df=pd.DataFrame(data)"
   ]
  },
  {
   "cell_type": "code",
   "execution_count": 75,
   "id": "a93669d6",
   "metadata": {
    "scrolled": true
   },
   "outputs": [
    {
     "data": {
      "text/plain": [
       "(5589, 9)"
      ]
     },
     "execution_count": 75,
     "metadata": {},
     "output_type": "execute_result"
    }
   ],
   "source": [
    "df.shape"
   ]
  },
  {
   "cell_type": "code",
   "execution_count": 76,
   "id": "eb3d32ef",
   "metadata": {
    "scrolled": true
   },
   "outputs": [
    {
     "data": {
      "text/html": [
       "<div>\n",
       "<style scoped>\n",
       "    .dataframe tbody tr th:only-of-type {\n",
       "        vertical-align: middle;\n",
       "    }\n",
       "\n",
       "    .dataframe tbody tr th {\n",
       "        vertical-align: top;\n",
       "    }\n",
       "\n",
       "    .dataframe thead th {\n",
       "        text-align: right;\n",
       "    }\n",
       "</style>\n",
       "<table border=\"1\" class=\"dataframe\">\n",
       "  <thead>\n",
       "    <tr style=\"text-align: right;\">\n",
       "      <th></th>\n",
       "      <th>Brand</th>\n",
       "      <th>Title</th>\n",
       "      <th>Description</th>\n",
       "      <th>Image url</th>\n",
       "      <th>Price</th>\n",
       "      <th>Product url</th>\n",
       "      <th>Stock status</th>\n",
       "      <th>EAn</th>\n",
       "      <th>Category</th>\n",
       "    </tr>\n",
       "  </thead>\n",
       "  <tbody>\n",
       "    <tr>\n",
       "      <th>0</th>\n",
       "      <td>D'Âme Nature</td>\n",
       "      <td>Colored Nail Polish 5ml</td>\n",
       "      <td>D'Âme Nature Colored Nail Polish 5ml is a nail...</td>\n",
       "      <td>//cdn1.costatic.com/img/product/400/63ce693b43...</td>\n",
       "      <td>£3.80</td>\n",
       "      <td>https://www.cocooncenter.co.uk/d-ame-nature-co...</td>\n",
       "      <td>In stock</td>\n",
       "      <td>3323030000114</td>\n",
       "      <td>Home&gt;Fragrance and Beauty&gt;Make-up for the Nail...</td>\n",
       "    </tr>\n",
       "    <tr>\n",
       "      <th>1</th>\n",
       "      <td>D'Âme Nature</td>\n",
       "      <td>Colored Nail Polish 5ml - Colour: The Red</td>\n",
       "      <td>D'Âme Nature Colored Nail Polish 5ml - Colour:...</td>\n",
       "      <td>//cdn1.costatic.com/img/product/400/63ce693b43...</td>\n",
       "      <td>£3.80</td>\n",
       "      <td>https://www.cocooncenter.co.uk/d-ame-nature-co...</td>\n",
       "      <td>In stock</td>\n",
       "      <td>3323030000114</td>\n",
       "      <td>Home&gt;Fragrance and Beauty&gt;Make-up for the Nail...</td>\n",
       "    </tr>\n",
       "    <tr>\n",
       "      <th>2</th>\n",
       "      <td>D'Âme Nature</td>\n",
       "      <td>Coup d'Éclat Light Satin Gel 50ml</td>\n",
       "      <td>D'Âme Nature Coup d'Éclat Light Satin Gel 50ml...</td>\n",
       "      <td>//cdn1.costatic.com/img/product/400/5ff6d89b54...</td>\n",
       "      <td>£14.10</td>\n",
       "      <td>https://www.cocooncenter.co.uk/d-ame-nature-co...</td>\n",
       "      <td>In stock</td>\n",
       "      <td>3323030000152</td>\n",
       "      <td>Home&gt;Care&gt;Face / Neck&gt;Moisturisers</td>\n",
       "    </tr>\n",
       "    <tr>\n",
       "      <th>3</th>\n",
       "      <td>D'Âme Nature</td>\n",
       "      <td>Toning Jelly 75ml</td>\n",
       "      <td>D'Âme Nature Toning Jelly 75ml combines the Ak...</td>\n",
       "      <td>//cdn1.costatic.com/img/product/400/61dbec9c6d...</td>\n",
       "      <td>£7.10</td>\n",
       "      <td>https://www.cocooncenter.co.uk/d-ame-nature-to...</td>\n",
       "      <td>In stock</td>\n",
       "      <td>3323030000381</td>\n",
       "      <td>Home&gt;Care&gt;Feet&gt;Relaxing Products</td>\n",
       "    </tr>\n",
       "    <tr>\n",
       "      <th>4</th>\n",
       "      <td>D'Âme Nature</td>\n",
       "      <td>D'âme Nature Fresh-Deodorant Mist 100ml</td>\n",
       "      <td>D'âme Nature Fresh-Deodorant Mist 100ml is a s...</td>\n",
       "      <td>//cdn1.costatic.com/img/product/400/61dbebff7b...</td>\n",
       "      <td>£8.60</td>\n",
       "      <td>https://www.cocooncenter.co.uk/d-ame-nature-fr...</td>\n",
       "      <td>Only 0 left in stock</td>\n",
       "      <td>3323030000374</td>\n",
       "      <td>Home&gt;Hygiene&gt;Deodorants / Anti-Perspirants&gt;Fee...</td>\n",
       "    </tr>\n",
       "  </tbody>\n",
       "</table>\n",
       "</div>"
      ],
      "text/plain": [
       "          Brand                                      Title  \\\n",
       "0  D'Âme Nature                    Colored Nail Polish 5ml   \n",
       "1  D'Âme Nature  Colored Nail Polish 5ml - Colour: The Red   \n",
       "2  D'Âme Nature          Coup d'Éclat Light Satin Gel 50ml   \n",
       "3  D'Âme Nature                          Toning Jelly 75ml   \n",
       "4  D'Âme Nature    D'âme Nature Fresh-Deodorant Mist 100ml   \n",
       "\n",
       "                                         Description  \\\n",
       "0  D'Âme Nature Colored Nail Polish 5ml is a nail...   \n",
       "1  D'Âme Nature Colored Nail Polish 5ml - Colour:...   \n",
       "2  D'Âme Nature Coup d'Éclat Light Satin Gel 50ml...   \n",
       "3  D'Âme Nature Toning Jelly 75ml combines the Ak...   \n",
       "4  D'âme Nature Fresh-Deodorant Mist 100ml is a s...   \n",
       "\n",
       "                                           Image url   Price  \\\n",
       "0  //cdn1.costatic.com/img/product/400/63ce693b43...   £3.80   \n",
       "1  //cdn1.costatic.com/img/product/400/63ce693b43...   £3.80   \n",
       "2  //cdn1.costatic.com/img/product/400/5ff6d89b54...  £14.10   \n",
       "3  //cdn1.costatic.com/img/product/400/61dbec9c6d...   £7.10   \n",
       "4  //cdn1.costatic.com/img/product/400/61dbebff7b...   £8.60   \n",
       "\n",
       "                                         Product url          Stock status  \\\n",
       "0  https://www.cocooncenter.co.uk/d-ame-nature-co...              In stock   \n",
       "1  https://www.cocooncenter.co.uk/d-ame-nature-co...              In stock   \n",
       "2  https://www.cocooncenter.co.uk/d-ame-nature-co...              In stock   \n",
       "3  https://www.cocooncenter.co.uk/d-ame-nature-to...              In stock   \n",
       "4  https://www.cocooncenter.co.uk/d-ame-nature-fr...  Only 0 left in stock   \n",
       "\n",
       "             EAn                                           Category  \n",
       "0  3323030000114  Home>Fragrance and Beauty>Make-up for the Nail...  \n",
       "1  3323030000114  Home>Fragrance and Beauty>Make-up for the Nail...  \n",
       "2  3323030000152                 Home>Care>Face / Neck>Moisturisers  \n",
       "3  3323030000381                   Home>Care>Feet>Relaxing Products  \n",
       "4  3323030000374  Home>Hygiene>Deodorants / Anti-Perspirants>Fee...  "
      ]
     },
     "execution_count": 76,
     "metadata": {},
     "output_type": "execute_result"
    }
   ],
   "source": [
    "df.head()"
   ]
  },
  {
   "cell_type": "code",
   "execution_count": 77,
   "id": "94ab37a5",
   "metadata": {},
   "outputs": [],
   "source": [
    "df.to_excel('all till I.xlsx',index=False)"
   ]
  }
 ],
 "metadata": {
  "kernelspec": {
   "display_name": "Python 3 (ipykernel)",
   "language": "python",
   "name": "python3"
  },
  "language_info": {
   "codemirror_mode": {
    "name": "ipython",
    "version": 3
   },
   "file_extension": ".py",
   "mimetype": "text/x-python",
   "name": "python",
   "nbconvert_exporter": "python",
   "pygments_lexer": "ipython3",
   "version": "3.10.7"
  },
  "varInspector": {
   "cols": {
    "lenName": 16,
    "lenType": 16,
    "lenVar": 40
   },
   "kernels_config": {
    "python": {
     "delete_cmd_postfix": "",
     "delete_cmd_prefix": "del ",
     "library": "var_list.py",
     "varRefreshCmd": "print(var_dic_list())"
    },
    "r": {
     "delete_cmd_postfix": ") ",
     "delete_cmd_prefix": "rm(",
     "library": "var_list.r",
     "varRefreshCmd": "cat(var_dic_list()) "
    }
   },
   "types_to_exclude": [
    "module",
    "function",
    "builtin_function_or_method",
    "instance",
    "_Feature"
   ],
   "window_display": false
  }
 },
 "nbformat": 4,
 "nbformat_minor": 5
}
